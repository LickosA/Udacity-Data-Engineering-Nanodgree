{
 "cells": [
  {
   "cell_type": "markdown",
   "metadata": {
    "editable": true
   },
   "source": [
    "# Historical ROA Analysis\n",
    "### Data Engineering Capstone Project\n",
    "\n",
    "#### Project Summary\n",
    "On the Internet, networks announce their prefixes (IP address ranges) to other networks through\n",
    "the BGP protocol. However, based on an external database called RPKI containing ROAs, those announcements can be tagged as **valid**, **invalid** or **not-found**.\n",
    "Whenever the announcement of a prefix is tagged as invalid, networks receiving those announcements will drop these prefixes if they are performing Route Origin Validation (ROV). \n",
    "The aim of this project is to capture the BGP propagation time following changes in the RPKI.\n",
    "* t1 = time of the creation of a ROA\n",
    "* t2 = time of withdrawal seen in BGP\n",
    "* t_d = t2 - t1 (delta between t2 and t1 and corresponds to the propagation time)\n",
    "\n",
    "\n",
    "The project follows the follow steps:\n",
    "* A: Scope the Project and Gather Data\n",
    "* B: Explore and Assess the Data\n",
    "* C: Define the Data Model\n",
    "* D: Run ETL to Model the Data\n",
    "* E: Complete Project Write Up"
   ]
  },
  {
   "cell_type": "code",
   "execution_count": 1,
   "metadata": {
    "editable": true
   },
   "outputs": [
    {
     "name": "stdout",
     "output_type": "stream",
     "text": [
      "Get:1 http://security.ubuntu.com/ubuntu xenial-security InRelease [99.8 kB]\n",
      "Hit:2 http://ppa.launchpad.net/ubuntu-toolchain-r/test/ubuntu xenial InRelease \n",
      "Get:3 https://cli-assets.heroku.com/apt ./ InRelease [2,895 B]           \n",
      "Hit:4 http://archive.ubuntu.com/ubuntu xenial InRelease                  \n",
      "Get:6 http://archive.ubuntu.com/ubuntu xenial-updates InRelease [99.8 kB]\n",
      "Get:7 https://dl.cloudsmith.io/public/wand/libwandio/deb/ubuntu xenial InRelease [5,217 B]\n",
      "Hit:8 https://pkg.caida.org/os/ubuntu xenial InRelease         \n",
      "Hit:9 https://deb.nodesource.com/node_11.x xenial InRelease    \n",
      "Err:3 https://cli-assets.heroku.com/apt ./ InRelease           \n",
      "  The following signatures couldn't be verified because the public key is not available: NO_PUBKEY 6DB5542C356545CF\n",
      "Get:10 http://archive.ubuntu.com/ubuntu xenial-backports InRelease [97.4 kB]\n",
      "Hit:5 https://downloads.apache.org/cassandra/debian 311x InRelease\n",
      "Fetched 305 kB in 1s (260 kB/s)\n",
      "Reading package lists... Done\n",
      "W: An error occurred during the signature verification. The repository is not updated and the previous index files will be used. GPG error: https://cli-assets.heroku.com/apt ./ InRelease: The following signatures couldn't be verified because the public key is not available: NO_PUBKEY 6DB5542C356545CF\n",
      "W: Failed to fetch https://cli-assets.heroku.com/apt/./InRelease  The following signatures couldn't be verified because the public key is not available: NO_PUBKEY 6DB5542C356545CF\n",
      "W: Some index files failed to download. They have been ignored, or old ones used instead.\n",
      "Reading package lists... Done\n",
      "Building dependency tree       \n",
      "Reading state information... Done\n",
      "ssl-cert is already the newest version (1.0.37).\n",
      "apt-transport-https is already the newest version (1.2.35).\n",
      "ca-certificates is already the newest version (20210119~16.04.1).\n",
      "curl is already the newest version (7.47.0-1ubuntu2.19).\n",
      "gnupg is already the newest version (1.4.20-1ubuntu3.3).\n",
      "lsb-release is already the newest version (9.20160110ubuntu0.2).\n",
      "0 upgraded, 0 newly installed, 0 to remove and 124 not upgraded.\n",
      "Executing the  setup script for the 'wand/libwandio' repository ...\n",
      "\n",
      "\u001b[32m   OK\u001b[39;49m: Checking for required executable 'curl' ...\u001b[1K\n",
      "\u001b[32m   OK\u001b[39;49m: Checking for required executable 'apt-get' ...\u001b[1K\n",
      "\u001b[32m   OK\u001b[39;49m: Detecting your OS distribution and release using system methods ...\n",
      " ^^^^: ... Detected/provided for your OS/distribution, version and architecture:\n",
      " >>>>:\n",
      " >>>>: ... distro=\u001b[32mubuntu\u001b[39;49m  version=\u001b[32m16.04\u001b[39;49m  codename=\u001b[32mxenial\u001b[39;49m  arch=\u001b[32mx86_64\u001b[39;49m  \n",
      " >>>>:\n",
      "\u001b[32m   OK\u001b[39;49m: Checking for apt dependency 'apt-transport-https' ...\u001b[1K\n",
      "\u001b[32m   OK\u001b[39;49m: Checking for apt dependency 'ca-certificates' ...\u001b[1K\n",
      "\u001b[32m   OK\u001b[39;49m: Checking for apt dependency 'gnupg' ...\u001b[1K\n",
      "\u001b[32m   OK\u001b[39;49m: Importing 'wand/libwandio' repository GPG key into apt ...\u001b[1K\n",
      "\u001b[32m   OK\u001b[39;49m: Checking if upstream install config is OK ...\u001b[1K\n",
      "\u001b[32m   OK\u001b[39;49m: Installing 'wand/libwandio' repository via apt ...\u001b[1K\n",
      "\u001b[32m   OK\u001b[39;49m: Updating apt repository metadata cache ...\u001b[1K\n",
      "\u001b[32m   OK\u001b[39;49m: The repository has been installed successfully - You're ready to rock!\n",
      "\n",
      "deb https://pkg.caida.org/os/ubuntu xenial main\n",
      "--2022-04-15 10:31:04--  https://pkg.caida.org/os/ubuntu/keyring.gpg\n",
      "Resolving pkg.caida.org (pkg.caida.org)... 192.172.226.26, 192.172.226.6, 192.172.226.21\n",
      "Connecting to pkg.caida.org (pkg.caida.org)|192.172.226.26|:443... connected.\n",
      "HTTP request sent, awaiting response... 200 OK\n",
      "Length: 2310 (2.3K) [application/octet-stream]\n",
      "Saving to: ‘/etc/apt/trusted.gpg.d/caida.gpg’\n",
      "\n",
      "/etc/apt/trusted.gp 100%[===================>]   2.26K  --.-KB/s    in 0s      \n",
      "\n",
      "2022-04-15 10:31:04 (249 MB/s) - ‘/etc/apt/trusted.gpg.d/caida.gpg’ saved [2310/2310]\n",
      "\n",
      "Hit:1 http://security.ubuntu.com/ubuntu xenial-security InRelease\n",
      "Hit:3 http://ppa.launchpad.net/ubuntu-toolchain-r/test/ubuntu xenial InRelease\n",
      "Hit:4 http://archive.ubuntu.com/ubuntu xenial InRelease             \n",
      "Get:5 https://cli-assets.heroku.com/apt ./ InRelease [2,895 B]\n",
      "Get:6 https://dl.cloudsmith.io/public/wand/libwandio/deb/ubuntu xenial InRelease [5,217 B]\n",
      "Hit:7 http://archive.ubuntu.com/ubuntu xenial-updates InRelease\n",
      "Hit:8 https://deb.nodesource.com/node_11.x xenial InReleasem\n",
      "Hit:9 http://archive.ubuntu.com/ubuntu xenial-backports InRelease\n",
      "Hit:10 https://pkg.caida.org/os/ubuntu xenial InReleasem\n",
      "Err:5 https://cli-assets.heroku.com/apt ./ InRelease\n",
      "  The following signatures couldn't be verified because the public key is not available: NO_PUBKEY 6DB5542C356545CF\n",
      "Hit:2 https://downloads.apache.org/cassandra/debian 311x InRelease\n",
      "Fetched 8,112 B in 1s (7,335 B/s)m[33m\u001b[33m\u001b[33m\n",
      "Reading package lists... Done\n",
      "Building dependency tree       \n",
      "Reading state information... Done\n",
      "124 packages can be upgraded. Run 'apt list --upgradable' to see them.\n",
      "W: An error occurred during the signature verification. The repository is not updated and the previous index files will be used. GPG error: https://cli-assets.heroku.com/apt ./ InRelease: The following signatures couldn't be verified because the public key is not available: NO_PUBKEY 6DB5542C356545CF\n",
      "W: Failed to fetch https://cli-assets.heroku.com/apt/./InRelease  The following signatures couldn't be verified because the public key is not available: NO_PUBKEY 6DB5542C356545CF\n",
      "W: Some index files failed to download. They have been ignored, or old ones used instead.\n",
      "Reading package lists... Done\n",
      "Building dependency tree       \n",
      "Reading state information... Done\n",
      "bgpstream is already the newest version (2.2.0).\n",
      "0 upgraded, 0 newly installed, 0 to remove and 124 not upgraded.\n",
      "Requirement already satisfied: appdirs==1.4.4 in /opt/conda/lib/python3.6/site-packages (from -r requirements.txt (line 1)) (1.4.4)\n",
      "Requirement already satisfied: py-radix==0.10.0 in /opt/conda/lib/python3.6/site-packages (from -r requirements.txt (line 2)) (0.10.0)\n",
      "Requirement already satisfied: mrtparse==2.1.0 in /opt/conda/lib/python3.6/site-packages (from -r requirements.txt (line 3)) (2.1.0)\n",
      "Requirement already satisfied: portion==2.2.0 in /opt/conda/lib/python3.6/site-packages (from -r requirements.txt (line 4)) (2.2.0)\n",
      "Requirement already satisfied: pybgpstream==2.0.2 in /opt/conda/lib/python3.6/site-packages (from -r requirements.txt (line 5)) (2.0.2)\n",
      "Requirement already satisfied: requests==2.27.1 in /opt/conda/lib/python3.6/site-packages (from -r requirements.txt (line 6)) (2.27.1)\n",
      "Requirement already satisfied: pandas==1.1.5 in /opt/conda/lib/python3.6/site-packages (from -r requirements.txt (line 7)) (1.1.5)\n",
      "Requirement already satisfied: sortedcontainers~=2.2 in /opt/conda/lib/python3.6/site-packages (from portion==2.2.0->-r requirements.txt (line 4)) (2.4.0)\n",
      "Requirement already satisfied: python-dateutil in /opt/conda/lib/python3.6/site-packages (from pybgpstream==2.0.2->-r requirements.txt (line 5)) (2.6.1)\n",
      "Requirement already satisfied: idna<4,>=2.5; python_version >= \"3\" in /opt/conda/lib/python3.6/site-packages (from requests==2.27.1->-r requirements.txt (line 6)) (2.6)\n",
      "Requirement already satisfied: charset-normalizer~=2.0.0; python_version >= \"3\" in /opt/conda/lib/python3.6/site-packages (from requests==2.27.1->-r requirements.txt (line 6)) (2.0.12)\n",
      "Requirement already satisfied: urllib3<1.27,>=1.21.1 in /opt/conda/lib/python3.6/site-packages (from requests==2.27.1->-r requirements.txt (line 6)) (1.22)\n",
      "Requirement already satisfied: certifi>=2017.4.17 in /opt/conda/lib/python3.6/site-packages (from requests==2.27.1->-r requirements.txt (line 6)) (2019.11.28)\n",
      "Requirement already satisfied: numpy>=1.15.4 in /opt/conda/lib/python3.6/site-packages (from pandas==1.1.5->-r requirements.txt (line 7)) (1.19.5)\n",
      "Requirement already satisfied: pytz>=2017.2 in /opt/conda/lib/python3.6/site-packages (from pandas==1.1.5->-r requirements.txt (line 7)) (2017.3)\n",
      "Requirement already satisfied: six>=1.5 in /opt/conda/lib/python3.6/site-packages (from python-dateutil->pybgpstream==2.0.2->-r requirements.txt (line 5)) (1.11.0)\n",
      "mkdir: cannot create directory ‘tmp’: File exists\n",
      "mkdir: cannot create directory ‘cache’: File exists\n",
      "mkdir: cannot create directory ‘data’: File exists\n"
     ]
    }
   ],
   "source": [
    "# Do all imports and installs here\n",
    "# Need to install bgpstream first, here for more details: https://bgpstream.caida.org/docs/install/bgpstream\n",
    "!bash install.sh "
   ]
  },
  {
   "cell_type": "code",
   "execution_count": 1,
   "metadata": {
    "editable": true
   },
   "outputs": [],
   "source": [
    "import config\n",
    "from rib import RIB\n",
    "from rov import ROV\n",
    "from roa import ROA\n",
    "from bgp import BGP\n",
    "from datetime import date, datetime, timedelta\n",
    "import pandas as pd\n",
    "import cassandra\n",
    "import numpy as np\n",
    "import matplotlib.pyplot as plt\n",
    "from matplotlib.dates import YearLocator, MonthLocator, DateFormatter"
   ]
  },
  {
   "cell_type": "code",
   "execution_count": null,
   "metadata": {
    "editable": true
   },
   "outputs": [],
   "source": []
  },
  {
   "cell_type": "markdown",
   "metadata": {
    "editable": true
   },
   "source": [
    "#### Creating a Cluster"
   ]
  },
  {
   "cell_type": "code",
   "execution_count": 6,
   "metadata": {
    "editable": true
   },
   "outputs": [],
   "source": [
    "# This should make a connection to a Cassandra instance your local machine \n",
    "# (127.0.0.1)\n",
    "\n",
    "from cassandra.cluster import Cluster\n",
    "cluster = Cluster()\n",
    "\n",
    "# To establish connection and begin executing queries, need a session\n",
    "session = cluster.connect()"
   ]
  },
  {
   "cell_type": "markdown",
   "metadata": {
    "editable": true
   },
   "source": [
    "#### Create keyspace"
   ]
  },
  {
   "cell_type": "code",
   "execution_count": 7,
   "metadata": {
    "editable": true
   },
   "outputs": [
    {
     "data": {
      "text/plain": [
       "<cassandra.cluster.ResultSet at 0x7f93787a53c8>"
      ]
     },
     "execution_count": 7,
     "metadata": {},
     "output_type": "execute_result"
    }
   ],
   "source": [
    "# TO-DO: Create a Keyspace\n",
    "session.execute(\"\"\"\n",
    "    CREATE KEYSPACE IF NOT EXISTS udacity \n",
    "    WITH REPLICATION = \n",
    "    { 'class' : 'SimpleStrategy', 'replication_factor' : 1 }\"\"\")"
   ]
  },
  {
   "cell_type": "markdown",
   "metadata": {
    "editable": true
   },
   "source": [
    "#### Set keyspace"
   ]
  },
  {
   "cell_type": "code",
   "execution_count": 8,
   "metadata": {
    "editable": true
   },
   "outputs": [],
   "source": [
    "# TO-DO: Set KEYSPACE to the keyspace specified above\n",
    "session.set_keyspace('udacity')"
   ]
  },
  {
   "cell_type": "markdown",
   "metadata": {
    "editable": true
   },
   "source": [
    "### A. Scope the Project and Gather Data\n",
    "The data gathering is done in multiple steps\n",
    "\n",
    "\n",
    "#### Describe and Gather Data \n",
    "Describe the data sets you're using. Where did it come from? What type of information is included? \n",
    "\n",
    "\n",
    "Input datasets:\n",
    "As input, we have the RIB files from [Routeviews](http://archive.routeviews.org/bgpdata/2018.01/RIBS/rib.20180101.0000.bz2)\n",
    "\n",
    "We will take data every month from 2018-01-01 till now.\n",
    "\n",
    "For each RIB file we will extract the prefixes using `pybgpstream` and origin AS and run Route Origin validation using `rov`."
   ]
  },
  {
   "cell_type": "markdown",
   "metadata": {
    "editable": true
   },
   "source": [
    "#### Step 1: Download a RIB file\n",
    "First we download and extract **prefix** and **origin ASN** information from a RIB file. \n",
    "We take only the unique values (prefix, origin_as) and drop all duplicates."
   ]
  },
  {
   "cell_type": "code",
   "execution_count": 4,
   "metadata": {
    "editable": true
   },
   "outputs": [],
   "source": [
    "# Read in the data here \n",
    "url = 'http://archive.routeviews.org/route-views.bdix/bgpdata/2022.01/RIBS/rib.20220101.0000.bz2'\n",
    "\n",
    "rib = RIB()\n",
    "file = rib.retrieveFile(url)\n",
    "df = rib.parseMRT(config.TMP_DIR + file)"
   ]
  },
  {
   "cell_type": "code",
   "execution_count": 5,
   "metadata": {
    "editable": true
   },
   "outputs": [
    {
     "name": "stdout",
     "output_type": "stream",
     "text": [
      "(5279, 2)\n"
     ]
    }
   ],
   "source": [
    "print(df.shape)"
   ]
  },
  {
   "cell_type": "code",
   "execution_count": 22,
   "metadata": {
    "editable": true
   },
   "outputs": [],
   "source": [
    "query = \"CREATE TABLE IF NOT EXISTS rib\"\n",
    "query = query + \"(prefix text, origin_asn int, PRIMARY KEY (prefix, origin_asn))\"\n",
    "session.execute(query)\n",
    "\n",
    "query = \"INSERT INTO rib (prefix, origin_asn) VALUES (?,?)\"\n",
    "prepared = session.prepare(query)"
   ]
  },
  {
   "cell_type": "code",
   "execution_count": 23,
   "metadata": {
    "editable": true
   },
   "outputs": [],
   "source": [
    "for index, row in df.iterrows():\n",
    "    session.execute(prepared, (row['prefix'],int(row['origin_asn'])))"
   ]
  },
  {
   "cell_type": "markdown",
   "metadata": {
    "editable": true
   },
   "source": [
    "#### Step 2: Validate the prefixes using RPKI\n",
    "Once we have a list of prefixes from the RIB, we need to validate them. This step adds an additional column \"status\"\n",
    "to the dataframe and insert a status (\"Valid\", \"Not Found\", \"Invalid\", \"Invalid;more-specific\". For the purpose of \n",
    "this project, we are interested in the \"Invalid\" and \"Invalid;more-specific\" only.\n",
    "\n",
    "The ROV class, runs the RPKI validation and tags each row. We then filter out the invalid only for step 3."
   ]
  },
  {
   "cell_type": "code",
   "execution_count": 24,
   "metadata": {
    "editable": true
   },
   "outputs": [
    {
     "name": "stdout",
     "output_type": "stream",
     "text": [
      "https://ftp.ripe.net/ripe/rpki/afrinic.tal/2022/01/01/roas.csv\n"
     ]
    },
    {
     "name": "stderr",
     "output_type": "stream",
     "text": [
      "Downloading: https://ftp.ripe.net/ripe/rpki/afrinic.tal/2022/01/01/roas.csv\n"
     ]
    },
    {
     "name": "stdout",
     "output_type": "stream",
     "text": [
      "/root/.cache/rov/db/rpki//2022/1/1/afrinic.csv\n",
      "https://ftp.ripe.net/ripe/rpki/apnic.tal/2022/01/01/roas.csv\n"
     ]
    },
    {
     "name": "stderr",
     "output_type": "stream",
     "text": [
      "Downloading: https://ftp.ripe.net/ripe/rpki/apnic.tal/2022/01/01/roas.csv\n"
     ]
    },
    {
     "name": "stdout",
     "output_type": "stream",
     "text": [
      "/root/.cache/rov/db/rpki//2022/1/1/apnic.csv\n",
      "https://ftp.ripe.net/ripe/rpki/arin.tal/2022/01/01/roas.csv\n"
     ]
    },
    {
     "name": "stderr",
     "output_type": "stream",
     "text": [
      "Downloading: https://ftp.ripe.net/ripe/rpki/arin.tal/2022/01/01/roas.csv\n"
     ]
    },
    {
     "name": "stdout",
     "output_type": "stream",
     "text": [
      "/root/.cache/rov/db/rpki//2022/1/1/arin.csv\n",
      "https://ftp.ripe.net/ripe/rpki/lacnic.tal/2022/01/01/roas.csv\n"
     ]
    },
    {
     "name": "stderr",
     "output_type": "stream",
     "text": [
      "Downloading: https://ftp.ripe.net/ripe/rpki/lacnic.tal/2022/01/01/roas.csv\n"
     ]
    },
    {
     "name": "stdout",
     "output_type": "stream",
     "text": [
      "/root/.cache/rov/db/rpki//2022/1/1/lacnic.csv\n",
      "https://ftp.ripe.net/ripe/rpki/ripencc.tal/2022/01/01/roas.csv\n"
     ]
    },
    {
     "name": "stderr",
     "output_type": "stream",
     "text": [
      "Downloading: https://ftp.ripe.net/ripe/rpki/ripencc.tal/2022/01/01/roas.csv\n"
     ]
    },
    {
     "name": "stdout",
     "output_type": "stream",
     "text": [
      "/root/.cache/rov/db/rpki//2022/1/1/ripencc.csv\n"
     ]
    },
    {
     "name": "stderr",
     "output_type": "stream",
     "text": [
      "Loading: /root/.cache/rov/db/rpki//2022/1/1/ripencc.csv\n",
      "Loading: /root/.cache/rov/db/rpki//2022/1/1/afrinic.csv\n",
      "Loading: /root/.cache/rov/db/rpki//2022/1/1/lacnic.csv\n",
      "Loading: /root/.cache/rov/db/rpki//2022/1/1/apnic.csv\n",
      "Loading: /root/.cache/rov/db/rpki//2022/1/1/arin.csv\n"
     ]
    }
   ],
   "source": [
    "##extract date\n",
    "d_string = url.split(\"/\")[-1].split('.')[1]\n",
    "date = datetime.strptime(d_string, '%Y%m%d')\n",
    "\n",
    "rpki_dir = config.DEFAULT_RPKI_DIR \n",
    "##Compute RPKI archive URLs\n",
    "\n",
    "rpki_url = []\n",
    "rpki_dir += \"/\" + \"/\".join([str(date.year), str(date.month), str(date.day)]) + '/' \n",
    "for url in config.RPKI_ARCHIVE_URLS:\n",
    "    rpki_url.append( url.format(year=int(date.year), month=int(date.month), day=int(date.day)) )\n",
    "    \n",
    "\n",
    "rov = ROV(rpki_url, rpki_dir=rpki_dir)\n",
    "rov.download_databases(False)\n",
    "rov.load_rpki()\n",
    "\n",
    "df['status'] = df.apply(rov.check, axis=1)\n",
    "df = df.loc[df.status.str.contains('Invalid')]"
   ]
  },
  {
   "cell_type": "code",
   "execution_count": 27,
   "metadata": {
    "editable": true
   },
   "outputs": [],
   "source": [
    "query = \"CREATE TABLE IF NOT EXISTS roa\"\n",
    "query = query + \"(prefix text, origin_asn int, status text, PRIMARY KEY (prefix, origin_asn))\"\n",
    "session.execute(query)\n",
    "\n",
    "query = \"INSERT INTO rov (prefix, origin_asn, status) VALUES (?,?,?)\"\n",
    "prepared = session.prepare(query)"
   ]
  },
  {
   "cell_type": "code",
   "execution_count": null,
   "metadata": {
    "editable": true
   },
   "outputs": [],
   "source": [
    "for index, row in df.iterrows():\n",
    "    session.execute(prepared, (row['prefix'],int(row['origin_asn'])))"
   ]
  },
  {
   "cell_type": "markdown",
   "metadata": {
    "editable": true
   },
   "source": [
    "#### Step 3: Get the corresponding ROAs for the invalid"
   ]
  },
  {
   "cell_type": "code",
   "execution_count": 7,
   "metadata": {
    "editable": true
   },
   "outputs": [],
   "source": [
    "roa = ROA()\n",
    "\n",
    "#define a data model for the ROA dataframe\n",
    "df_roas = pd.DataFrame(columns={'prefix','tal','roa_creation_time'})\n",
    "\n",
    "for index, row in df.iterrows():\n",
    "    res = roa.getROACreationDates(row['prefix'])\n",
    "\n",
    "    if not res:\n",
    "        continue\n",
    "\n",
    "    timestamps = res['dates']\n",
    "    tal = res['tal']\n",
    "    prefix = row['prefix']\n",
    "    #print(prefix, tal, timestamps)\n",
    "\n",
    "    for t in timestamps:\n",
    "        #df_roas.loc[df_roas.shape[0]] = [prefix, tal, t]\n",
    "        df_roas = df_roas.append({'prefix':prefix,'tal':tal,'roa_creation_time':t},ignore_index=True)"
   ]
  },
  {
   "cell_type": "code",
   "execution_count": 8,
   "metadata": {
    "editable": true
   },
   "outputs": [],
   "source": [
    "#filter out roas with creation time < 2018\n",
    "df_roas = df_roas.loc[df_roas.roa_creation_time > '2018-01-01']"
   ]
  },
  {
   "cell_type": "code",
   "execution_count": 9,
   "metadata": {
    "editable": true
   },
   "outputs": [],
   "source": [
    "# take a sample (n=20) from each TAL, if it fails just take everything\n",
    "df_arin = df_roas.loc[df_roas.tal == 'arin']\n",
    "df_apnic = df_roas.loc[df_roas.tal == 'apnic']\n",
    "df_ripe = df_roas.loc[df_roas.tal == 'ripencc']\n",
    "df_lacnic = df_roas.loc[df_roas.tal == 'lacnic']\n",
    "df_afrinic = df_roas.loc[df_roas.tal == 'afrinic']\n",
    "\n",
    "try:\n",
    "    df_roas = pd.concat([df_arin.sample(n=20), df_apnic.sample(n=20), df_ripe.sample(n=20), df_lacnic.sample(n=20), df_afrinic.sample(n=20)], ignore_index=True)\n",
    "except Exception as e:\n",
    "    pass"
   ]
  },
  {
   "cell_type": "markdown",
   "metadata": {
    "editable": true
   },
   "source": [
    "#### Step 4: Retrieve the time between the creation of a ROA and when a withdraw message appears in BGP"
   ]
  },
  {
   "cell_type": "markdown",
   "metadata": {
    "editable": true
   },
   "source": [
    "#### Create table to store the data"
   ]
  },
  {
   "cell_type": "code",
   "execution_count": 13,
   "metadata": {
    "editable": true
   },
   "outputs": [
    {
     "data": {
      "text/plain": [
       "<cassandra.cluster.ResultSet at 0x7fcf97835e48>"
      ]
     },
     "execution_count": 13,
     "metadata": {},
     "output_type": "execute_result"
    }
   ],
   "source": [
    "query = \"CREATE TABLE IF NOT EXISTS roa_timing \"\n",
    "query = query + \"(prefix text, tal text, peer_ip inet, roa_create_time timestamp, withdrawal_time timestamp, delta float, PRIMARY KEY (prefix, peer_ip))\"\n",
    "session.execute(query)"
   ]
  },
  {
   "cell_type": "code",
   "execution_count": 14,
   "metadata": {
    "editable": true
   },
   "outputs": [
    {
     "data": {
      "text/html": [
       "<div>\n",
       "<style scoped>\n",
       "    .dataframe tbody tr th:only-of-type {\n",
       "        vertical-align: middle;\n",
       "    }\n",
       "\n",
       "    .dataframe tbody tr th {\n",
       "        vertical-align: top;\n",
       "    }\n",
       "\n",
       "    .dataframe thead th {\n",
       "        text-align: right;\n",
       "    }\n",
       "</style>\n",
       "<table border=\"1\" class=\"dataframe\">\n",
       "  <thead>\n",
       "    <tr style=\"text-align: right;\">\n",
       "      <th></th>\n",
       "      <th>tal</th>\n",
       "      <th>roa_creation_time</th>\n",
       "      <th>prefix</th>\n",
       "    </tr>\n",
       "  </thead>\n",
       "  <tbody>\n",
       "    <tr>\n",
       "      <th>1</th>\n",
       "      <td>lacnic</td>\n",
       "      <td>2021-01-02T03:00:00</td>\n",
       "      <td>181.214.155.0/24</td>\n",
       "    </tr>\n",
       "    <tr>\n",
       "      <th>2</th>\n",
       "      <td>lacnic</td>\n",
       "      <td>2020-11-25T02:00:00</td>\n",
       "      <td>181.214.155.0/24</td>\n",
       "    </tr>\n",
       "    <tr>\n",
       "      <th>3</th>\n",
       "      <td>ripencc</td>\n",
       "      <td>2020-07-21T08:32:14</td>\n",
       "      <td>194.133.122.0/24</td>\n",
       "    </tr>\n",
       "    <tr>\n",
       "      <th>4</th>\n",
       "      <td>ripencc</td>\n",
       "      <td>2021-01-01T07:48:03</td>\n",
       "      <td>194.133.122.0/24</td>\n",
       "    </tr>\n",
       "    <tr>\n",
       "      <th>5</th>\n",
       "      <td>ripencc</td>\n",
       "      <td>2022-01-01T09:03:21</td>\n",
       "      <td>194.133.122.0/24</td>\n",
       "    </tr>\n",
       "    <tr>\n",
       "      <th>6</th>\n",
       "      <td>ripencc</td>\n",
       "      <td>2020-02-24T18:05:18</td>\n",
       "      <td>194.133.159.0/24</td>\n",
       "    </tr>\n",
       "    <tr>\n",
       "      <th>7</th>\n",
       "      <td>ripencc</td>\n",
       "      <td>2022-01-01T09:03:21</td>\n",
       "      <td>194.133.159.0/24</td>\n",
       "    </tr>\n",
       "    <tr>\n",
       "      <th>8</th>\n",
       "      <td>ripencc</td>\n",
       "      <td>2022-01-01T09:03:21</td>\n",
       "      <td>194.133.159.0/24</td>\n",
       "    </tr>\n",
       "  </tbody>\n",
       "</table>\n",
       "</div>"
      ],
      "text/plain": [
       "       tal    roa_creation_time            prefix\n",
       "1   lacnic  2021-01-02T03:00:00  181.214.155.0/24\n",
       "2   lacnic  2020-11-25T02:00:00  181.214.155.0/24\n",
       "3  ripencc  2020-07-21T08:32:14  194.133.122.0/24\n",
       "4  ripencc  2021-01-01T07:48:03  194.133.122.0/24\n",
       "5  ripencc  2022-01-01T09:03:21  194.133.122.0/24\n",
       "6  ripencc  2020-02-24T18:05:18  194.133.159.0/24\n",
       "7  ripencc  2022-01-01T09:03:21  194.133.159.0/24\n",
       "8  ripencc  2022-01-01T09:03:21  194.133.159.0/24"
      ]
     },
     "execution_count": 14,
     "metadata": {},
     "output_type": "execute_result"
    }
   ],
   "source": [
    "df_roas"
   ]
  },
  {
   "cell_type": "code",
   "execution_count": 15,
   "metadata": {
    "editable": true
   },
   "outputs": [
    {
     "name": "stdout",
     "output_type": "stream",
     "text": [
      "181.214.155.0/24 2021-01-02T03:00:00 lacnic\n",
      "181.214.155.0/24 2021-01-02 03:00:00 2021-01-02 04:00:00\n",
      "23.129.32.61,1609558111.0\n",
      "INSERT INTO roa_timing (prefix, tal, peer_ip, roa_create_time, withdrawal_time, delta)VALUES (%s, %s, %s, %s, %s, %s)\n",
      "181.214.155.0/24 2020-11-25T02:00:00 lacnic\n",
      "181.214.155.0/24 2020-11-25 02:00:00 2020-11-25 03:00:00\n",
      "194.133.122.0/24 2020-07-21T08:32:14 ripencc\n",
      "194.133.122.0/24 2020-07-21 08:32:14 2020-07-21 09:32:14\n",
      "194.133.122.0/24 2021-01-01T07:48:03 ripencc\n",
      "194.133.122.0/24 2021-01-01 07:48:03 2021-01-01 08:48:03\n",
      "194.133.122.0/24 2022-01-01T09:03:21 ripencc\n",
      "194.133.122.0/24 2022-01-01 09:03:21 2022-01-01 10:03:21\n",
      "194.133.159.0/24 2020-02-24T18:05:18 ripencc\n",
      "194.133.159.0/24 2020-02-24 18:05:18 2020-02-24 19:05:18\n",
      "194.133.159.0/24 2022-01-01T09:03:21 ripencc\n",
      "194.133.159.0/24 2022-01-01 09:03:21 2022-01-01 10:03:21\n",
      "194.133.159.0/24 2022-01-01T09:03:21 ripencc\n",
      "194.133.159.0/24 2022-01-01 09:03:21 2022-01-01 10:03:21\n"
     ]
    }
   ],
   "source": [
    "#### /!\\/!\\/!\\/!\\/!\\this takes a lot of time\n",
    "\n",
    "bgp = BGP()\n",
    "for index, row in df_roas.iterrows():\n",
    "    prefix = row['prefix']\n",
    "    t = row['roa_creation_time']\n",
    "    tal = row['tal']\n",
    "    \n",
    "    elements = {}\n",
    "    \n",
    "    elements = bgp.extractWithdrawalTimePyBGPStream(prefix, t, 1, True)\n",
    "\n",
    "    for peer_ip, wtime in elements.items():\n",
    "        roa_create_time = datetime.strptime(t, '%Y-%m-%dT%H:%M:%S')\n",
    "        withdrawal_time = datetime.fromtimestamp(int(wtime))\n",
    "        delta = (withdrawal_time - roa_create_time).seconds\n",
    "        \n",
    "        query = \"INSERT INTO roa_timing (prefix, tal, peer_ip, roa_create_time, withdrawal_time, delta)\"\n",
    "        query = query + \"VALUES (%s, %s, %s, %s, %s, %s)\"\n",
    "        print(query)\n",
    "        session.execute(query, (prefix, tal, peer_ip, roa_create_time, withdrawal_time, delta))"
   ]
  },
  {
   "cell_type": "code",
   "execution_count": 16,
   "metadata": {
    "editable": true
   },
   "outputs": [
    {
     "name": "stdout",
     "output_type": "stream",
     "text": [
      "181.214.155.0/24 lacnic 23.129.32.61 2021-01-02 03:00:00 2021-01-02 03:28:31 1711.0\n"
     ]
    }
   ],
   "source": [
    "## TO-DO: Add in the SELECT statement to verify the data was entered into the table\n",
    "query = \"SELECT prefix, tal, peer_ip, roa_create_time, withdrawal_time, delta from roa_timing\"\n",
    "rows = session.execute(query)\n",
    "for row in rows:\n",
    "    print(row.prefix, row.tal, row.peer_ip, row.roa_create_time, row.withdrawal_time, row.delta)"
   ]
  },
  {
   "cell_type": "markdown",
   "metadata": {
    "editable": true
   },
   "source": [
    "### Step 2: Explore and Assess the Data\n",
    "The above shows the data collection process. However for the sake of this exercise and because the data collection process is lengthy, we will use data that has been collected already.\n",
    "\n",
    "#### Explore the Data \n",
    "Identify data quality issues, like missing values, duplicate data, etc.\n",
    "\n",
    "#### Cleaning Steps\n",
    "Document steps necessary to clean the data"
   ]
  },
  {
   "cell_type": "code",
   "execution_count": 22,
   "metadata": {
    "editable": true
   },
   "outputs": [
    {
     "data": {
      "text/html": [
       "<div>\n",
       "<style scoped>\n",
       "    .dataframe tbody tr th:only-of-type {\n",
       "        vertical-align: middle;\n",
       "    }\n",
       "\n",
       "    .dataframe tbody tr th {\n",
       "        vertical-align: top;\n",
       "    }\n",
       "\n",
       "    .dataframe thead th {\n",
       "        text-align: right;\n",
       "    }\n",
       "</style>\n",
       "<table border=\"1\" class=\"dataframe\">\n",
       "  <thead>\n",
       "    <tr style=\"text-align: right;\">\n",
       "      <th></th>\n",
       "      <th>prefix</th>\n",
       "      <th>tal</th>\n",
       "      <th>peer_ip</th>\n",
       "      <th>roa_create_time</th>\n",
       "      <th>withdrawal_time</th>\n",
       "      <th>delta</th>\n",
       "      <th>delta_min</th>\n",
       "    </tr>\n",
       "  </thead>\n",
       "  <tbody>\n",
       "    <tr>\n",
       "      <th>0</th>\n",
       "      <td>2803:ffe0::/32</td>\n",
       "      <td>lacnic</td>\n",
       "      <td>2001:7f8:1::a504:7957:1</td>\n",
       "      <td>2021-03-24 03:00:00</td>\n",
       "      <td>2021-03-24 03:04:31</td>\n",
       "      <td>271</td>\n",
       "      <td>4.516667</td>\n",
       "    </tr>\n",
       "    <tr>\n",
       "      <th>1</th>\n",
       "      <td>2803:ffe0::/32</td>\n",
       "      <td>lacnic</td>\n",
       "      <td>2001:7f8:1::a503:8880:1</td>\n",
       "      <td>2021-03-24 03:00:00</td>\n",
       "      <td>2021-03-24 03:04:47</td>\n",
       "      <td>287</td>\n",
       "      <td>4.783333</td>\n",
       "    </tr>\n",
       "    <tr>\n",
       "      <th>2</th>\n",
       "      <td>2803:ffe0::/32</td>\n",
       "      <td>lacnic</td>\n",
       "      <td>2001:7f8:1::a500:293:1</td>\n",
       "      <td>2021-03-24 03:00:00</td>\n",
       "      <td>2021-03-24 03:05:06</td>\n",
       "      <td>306</td>\n",
       "      <td>5.100000</td>\n",
       "    </tr>\n",
       "    <tr>\n",
       "      <th>3</th>\n",
       "      <td>2803:ffe0::/32</td>\n",
       "      <td>lacnic</td>\n",
       "      <td>2001:504:40:108::1:11</td>\n",
       "      <td>2021-03-24 03:00:00</td>\n",
       "      <td>2021-03-24 03:04:29</td>\n",
       "      <td>269</td>\n",
       "      <td>4.483333</td>\n",
       "    </tr>\n",
       "    <tr>\n",
       "      <th>4</th>\n",
       "      <td>2803:ffe0::/32</td>\n",
       "      <td>lacnic</td>\n",
       "      <td>2001:504:40:108::1:115</td>\n",
       "      <td>2021-03-24 03:00:00</td>\n",
       "      <td>2021-03-24 03:04:46</td>\n",
       "      <td>286</td>\n",
       "      <td>4.766667</td>\n",
       "    </tr>\n",
       "  </tbody>\n",
       "</table>\n",
       "</div>"
      ],
      "text/plain": [
       "           prefix     tal                  peer_ip     roa_create_time  \\\n",
       "0  2803:ffe0::/32  lacnic  2001:7f8:1::a504:7957:1 2021-03-24 03:00:00   \n",
       "1  2803:ffe0::/32  lacnic  2001:7f8:1::a503:8880:1 2021-03-24 03:00:00   \n",
       "2  2803:ffe0::/32  lacnic   2001:7f8:1::a500:293:1 2021-03-24 03:00:00   \n",
       "3  2803:ffe0::/32  lacnic    2001:504:40:108::1:11 2021-03-24 03:00:00   \n",
       "4  2803:ffe0::/32  lacnic   2001:504:40:108::1:115 2021-03-24 03:00:00   \n",
       "\n",
       "      withdrawal_time  delta  delta_min  \n",
       "0 2021-03-24 03:04:31    271   4.516667  \n",
       "1 2021-03-24 03:04:47    287   4.783333  \n",
       "2 2021-03-24 03:05:06    306   5.100000  \n",
       "3 2021-03-24 03:04:29    269   4.483333  \n",
       "4 2021-03-24 03:04:46    286   4.766667  "
      ]
     },
     "execution_count": 22,
     "metadata": {},
     "output_type": "execute_result"
    }
   ],
   "source": [
    "# Performing cleaning tasks here\n",
    "df = pd.read_csv('data/results.csv', header='infer', dtype={'delta':np.int32}, parse_dates=['roa_create_time','withdrawal_time'], skip_blank_lines=True)\n",
    "df['delta_min'] = df.delta/60\n",
    "df.head()"
   ]
  },
  {
   "cell_type": "code",
   "execution_count": 23,
   "metadata": {
    "editable": true
   },
   "outputs": [
    {
     "name": "stderr",
     "output_type": "stream",
     "text": [
      "/opt/conda/lib/python3.6/site-packages/numpy/core/_asarray.py:83: VisibleDeprecationWarning: Creating an ndarray from ragged nested sequences (which is a list-or-tuple of lists-or-tuples-or ndarrays with different lengths or shapes) is deprecated. If you meant to do this, you must specify 'dtype=object' when creating the ndarray\n",
      "  return array(a, dtype, copy=False, order=order)\n"
     ]
    },
    {
     "data": {
      "image/png": "[encoded data removed]",
      "text/plain": [
       "<matplotlib.figure.Figure at 0x7fcf7e48d080>"
      ]
     },
     "metadata": {
      "needs_background": "light"
     },
     "output_type": "display_data"
    }
   ],
   "source": [
    "fig, ax = plt.subplots(figsize=(10, 6))\n",
    "df.boxplot(by ='tal', column =['delta_min'], grid = False, ax=ax)\n",
    "\n",
    "ax.set_xlabel(\"RIR\")\n",
    "ax.set_ylabel(\"Withdrawal time (minutes)\")\n",
    "ax.grid(True)\n",
    "\n",
    "plt.show()"
   ]
  },
  {
   "cell_type": "code",
   "execution_count": null,
   "metadata": {
    "editable": true
   },
   "outputs": [],
   "source": []
  }
 ],
 "metadata": {
  "kernelspec": {
   "display_name": "Python 3",
   "language": "python",
   "name": "python3"
  },
  "language_info": {
   "codemirror_mode": {
    "name": "ipython",
    "version": 3
   },
   "file_extension": ".py",
   "mimetype": "text/x-python",
   "name": "python",
   "nbconvert_exporter": "python",
   "pygments_lexer": "ipython3",
   "version": "3.6.3"
  }
 },
 "nbformat": 4,
 "nbformat_minor": 4
}
